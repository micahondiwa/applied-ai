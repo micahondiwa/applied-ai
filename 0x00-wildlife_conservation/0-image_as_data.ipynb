{
 "cells": [
  {
   "cell_type": "markdown",
   "metadata": {},
   "source": [
    "# Image as data"
   ]
  },
  {
   "cell_type": "markdown",
   "metadata": {},
   "source": [
    "**Goals**"
   ]
  },
  {
   "cell_type": "markdown",
   "metadata": {},
   "source": [
    "- Check tensor attributes: size, data types and device\n",
    "- Manipulate tensors through slicing \n",
    "- Perform mathematical operations with tensors, including matrix manipulation and aggregation calculations.\n",
    "- Downlaod and decompress the dataset.\n",
    "- Load and explore images using PIL.\n",
    "- Demonstrate how visual information is stored in tensors, focusing on color channels."
   ]
  },
  {
   "cell_type": "code",
   "execution_count": 3,
   "metadata": {},
   "outputs": [],
   "source": [
    "import os\n",
    "import sys\n",
    "\n",
    "import matplotlib \n",
    "import matplotlib.pyplot as plt\n",
    "import pandas as pd \n",
    "import PIL \n",
    "import torch\n",
    "import torchvision\n",
    "from PIL import Image\n",
    "from torchvision import transforms"
   ]
  },
  {
   "cell_type": "code",
   "execution_count": 19,
   "metadata": {},
   "outputs": [
    {
     "name": "stdout",
     "output_type": "stream",
     "text": [
      "Platform: win32\n",
      "Python version: 3.12.1 (tags/v3.12.1:2305ca5, Dec  7 2023, 22:03:25) [MSC v.1937 64 bit (AMD64)]\n",
      "---\n",
      "matplotlib version: 3.9.2\n",
      "pandas version: 2.2.3\n",
      "PIL version: 11.0.0\n",
      "torch version: 2.5.1+cpu\n",
      "torchvision version: 0.20.1+cpu\n"
     ]
    }
   ],
   "source": [
    "print(\"Platform:\", sys.platform)\n",
    "print(\"Python version:\", sys.version)\n",
    "print(\"---\")\n",
    "print(\"matplotlib version:\", matplotlib.__version__)\n",
    "print(\"pandas version:\", pd.__version__)\n",
    "print(\"PIL version:\", PIL.__version__)\n",
    "print(\"torch version:\", torch.__version__)\n",
    "print(\"torchvision version:\", torchvision.__version__)"
   ]
  },
  {
   "cell_type": "markdown",
   "metadata": {},
   "source": [
    "**Working with Tensors in PyTorch**"
   ]
  },
  {
   "cell_type": "code",
   "execution_count": 22,
   "metadata": {},
   "outputs": [
    {
     "name": "stdout",
     "output_type": "stream",
     "text": [
      "my_tensor class: <class 'torch.Tensor'>\n",
      "tensor([[ 1.,  2.,  3.],\n",
      "        [ 4.,  5.,  6.],\n",
      "        [ 7.,  8.,  9.],\n",
      "        [10., 11., 12.]])\n"
     ]
    }
   ],
   "source": [
    "# Creating a nested tensor\n",
    "my_values = [[1, 2, 3], [4, 5, 6], [7, 8, 9], [10, 11, 12]]\n",
    "my_tensor = torch.Tensor(my_values)\n",
    "\n",
    "print(\"my_tensor class:\", type(my_tensor))\n",
    "print(my_tensor)"
   ]
  },
  {
   "cell_type": "markdown",
   "metadata": {},
   "source": [
    "**Tensor Attributes**"
   ]
  },
  {
   "cell_type": "code",
   "execution_count": 24,
   "metadata": {},
   "outputs": [
    {
     "name": "stdout",
     "output_type": "stream",
     "text": [
      "my_tensor shape:  torch.Size([4, 3])\n",
      "my_tensor data type: torch.float32\n"
     ]
    }
   ],
   "source": [
    "# Printing the dimensions and data type of my_tensor\n",
    "\n",
    "print(\"my_tensor shape: \", my_tensor.shape)\n",
    "print(\"my_tensor data type:\", my_tensor.dtype)"
   ]
  },
  {
   "cell_type": "code",
   "execution_count": 25,
   "metadata": {},
   "outputs": [
    {
     "name": "stdout",
     "output_type": "stream",
     "text": [
      "my_tensor device cpu\n"
     ]
    }
   ],
   "source": [
    "# Tensor device attribute\n",
    "\n",
    "print(\"my_tensor device\", my_tensor.device)"
   ]
  },
  {
   "cell_type": "code",
   "execution_count": 30,
   "metadata": {},
   "outputs": [
    {
     "name": "stdout",
     "output_type": "stream",
     "text": [
      "cuda GPUs available: False\n",
      "mps GPUs available: False\n"
     ]
    }
   ],
   "source": [
    "# Tensor device change\n",
    "\n",
    "# Check if GPUs avaialbale via 'cuda'\n",
    "cuda_gpus_available = torch.cuda.is_available()\n",
    "\n",
    "# Check if GPUs available via 'mps'\n",
    "mps_gpus_available = torch.backends.mps.is_available()\n",
    "\n",
    "print(\"cuda GPUs available:\", cuda_gpus_available)\n",
    "print(\"mps GPUs available:\", mps_gpus_available)"
   ]
  },
  {
   "cell_type": "code",
   "execution_count": 34,
   "metadata": {},
   "outputs": [],
   "source": [
    "# Assuming gpu was available:\n",
    "\n",
    "# my_tensor = my_tensor.to(\"cuda\")\n",
    "\n",
    "# print(\"my_tensor device:\", my_tensor.device)"
   ]
  },
  {
   "cell_type": "markdown",
   "metadata": {},
   "source": [
    "**Tensor Slicing**"
   ]
  },
  {
   "cell_type": "code",
   "execution_count": 35,
   "metadata": {},
   "outputs": [
    {
     "name": "stdout",
     "output_type": "stream",
     "text": [
      "left_tensor class: <class 'torch.Tensor'>\n",
      "left_tensor shape: torch.Size([2, 3])\n",
      "left_tensor data type: torch.float32\n",
      "left_tensor device: cpu\n",
      "tensor([[1., 2., 3.],\n",
      "        [4., 5., 6.]])\n",
      "\n",
      "right_tensor class: <class 'torch.Tensor'>\n",
      "right_tensor shape: torch.Size([2, 3])\n",
      "right_tensor data type: torch.float32\n",
      "right_tensor device: cpu\n",
      "tensor([[ 7.,  8.,  9.],\n",
      "        [10., 11., 12.]])\n"
     ]
    }
   ],
   "source": [
    "# Slicing my_tensor into two rows: left_tensor for the top two rows and right_tensor for the bottom two rows\n",
    "left_tensor = my_tensor[:2,:]\n",
    "right_tensor = my_tensor[2:,: ]\n",
    "\n",
    "print(\"left_tensor class:\", type(left_tensor))\n",
    "print(\"left_tensor shape:\", left_tensor.shape)\n",
    "print(\"left_tensor data type:\", left_tensor.dtype)\n",
    "print(\"left_tensor device:\", left_tensor.device)\n",
    "print(left_tensor)\n",
    "print()\n",
    "print(\"right_tensor class:\", type(right_tensor))\n",
    "print(\"right_tensor shape:\", right_tensor.shape)\n",
    "print(\"right_tensor data type:\", right_tensor.dtype)\n",
    "print(\"right_tensor device:\", right_tensor.device)\n",
    "print(right_tensor)"
   ]
  },
  {
   "cell_type": "markdown",
   "metadata": {},
   "source": [
    "**Tensor Math**"
   ]
  },
  {
   "cell_type": "code",
   "execution_count": 37,
   "metadata": {},
   "outputs": [
    {
     "name": "stdout",
     "output_type": "stream",
     "text": [
      "summed_tensor_operator class: <class 'torch.Tensor'>\n",
      "summed_tensor_operator shape: torch.Size([2, 3])\n",
      "summed_tensor_operator data type: torch.float32\n",
      "summed_tensor_operator device: cpu\n",
      "tensor([[ 8., 10., 12.],\n",
      "        [14., 16., 18.]])\n",
      "\n",
      "summed_tensor_method class: <class 'torch.Tensor'>\n",
      "summed_tensor_method shape: torch.Size([2, 3])\n",
      "summed_tensor_method data type: torch.float32\n",
      "summed_tensor_method device: cpu\n",
      "tensor([[ 8., 10., 12.],\n",
      "        [14., 16., 18.]])\n"
     ]
    }
   ],
   "source": [
    "# Using both the mathematical operator and the class method to add left_tensor to right_tensor. \n",
    "# Assigning results to summed_tensor_operator and summed_tensor_method\n",
    "\n",
    "summed_tensor_operator = left_tensor + right_tensor\n",
    "summed_tensor_method = left_tensor.add(right_tensor)\n",
    "\n",
    "print(\"summed_tensor_operator class:\", type(summed_tensor_operator))\n",
    "print(\"summed_tensor_operator shape:\", summed_tensor_operator.shape)\n",
    "print(\"summed_tensor_operator data type:\", summed_tensor_operator.dtype)\n",
    "print(\"summed_tensor_operator device:\", summed_tensor_operator.device)\n",
    "print(summed_tensor_operator)\n",
    "print()\n",
    "print(\"summed_tensor_method class:\", type(summed_tensor_method))\n",
    "print(\"summed_tensor_method shape:\", summed_tensor_method.shape)\n",
    "print(\"summed_tensor_method data type:\", summed_tensor_method.dtype)\n",
    "print(\"summed_tensor_method device:\", summed_tensor_method.device)\n",
    "print(summed_tensor_method)"
   ]
  },
  {
   "cell_type": "code",
   "execution_count": 38,
   "metadata": {},
   "outputs": [
    {
     "name": "stdout",
     "output_type": "stream",
     "text": [
      "ew_tensor_operator class: <class 'torch.Tensor'>\n",
      "ew_tensor_operator shape: torch.Size([2, 3])\n",
      "ew_tensor_operator data type: torch.float32\n",
      "ew_tensor_operator device: cpu\n",
      "tensor([[ 7., 16., 27.],\n",
      "        [40., 55., 72.]])\n",
      "\n",
      "ew_tensor_method class: <class 'torch.Tensor'>\n",
      "ew_tensor_method shape: torch.Size([2, 3])\n",
      "ew_tensor_method data type: torch.float32\n",
      "ew_tensor_method device: cpu\n",
      "tensor([[ 7., 16., 27.],\n",
      "        [40., 55., 72.]])\n"
     ]
    }
   ],
   "source": [
    "# Element-wise multiplication\n",
    "\n",
    "ew_tensor_operator = left_tensor * right_tensor\n",
    "ew_tensor_method = left_tensor.mul(right_tensor)\n",
    "\n",
    "print(\"ew_tensor_operator class:\", type(ew_tensor_operator))\n",
    "print(\"ew_tensor_operator shape:\", ew_tensor_operator.shape)\n",
    "print(\"ew_tensor_operator data type:\", ew_tensor_operator.dtype)\n",
    "print(\"ew_tensor_operator device:\", ew_tensor_operator.device)\n",
    "print(ew_tensor_operator)\n",
    "print()\n",
    "print(\"ew_tensor_method class:\", type(ew_tensor_method))\n",
    "print(\"ew_tensor_method shape:\", ew_tensor_method.shape)\n",
    "print(\"ew_tensor_method data type:\", ew_tensor_method.dtype)\n",
    "print(\"ew_tensor_method device:\", ew_tensor_method.device)\n",
    "print(ew_tensor_method)"
   ]
  },
  {
   "cell_type": "code",
   "execution_count": 39,
   "metadata": {},
   "outputs": [
    {
     "data": {
      "text/plain": [
       "tensor([[True, True, True],\n",
       "        [True, True, True]])"
      ]
     },
     "execution_count": 39,
     "metadata": {},
     "output_type": "execute_result"
    }
   ],
   "source": [
    "left_tensor * right_tensor == right_tensor * left_tensor"
   ]
  },
  {
   "cell_type": "code",
   "execution_count": 40,
   "metadata": {},
   "outputs": [
    {
     "name": "stdout",
     "output_type": "stream",
     "text": [
      "new_left_tensor class: <class 'torch.Tensor'>\n",
      "new_left_tensor shape: torch.Size([2, 2])\n",
      "new_left_tensor data type: torch.float32\n",
      "new_left_tensor device: cpu\n",
      "tensor([[2., 5.],\n",
      "        [7., 3.]])\n",
      "\n",
      "new_right_tensor class: <class 'torch.Tensor'>\n",
      "new_right_tensor shape: torch.Size([2, 1])\n",
      "new_right_tensor data type: torch.float32\n",
      "new_right_tensor device: cpu\n",
      "tensor([[8.],\n",
      "        [9.]])\n"
     ]
    }
   ],
   "source": [
    "# Matrix Multiplication\n",
    "new_left_tensor = torch.Tensor([[2, 5], [7, 3]])\n",
    "new_right_tensor = torch.Tensor([[8], [9]])\n",
    "\n",
    "print(\"new_left_tensor class:\", type(new_left_tensor))\n",
    "print(\"new_left_tensor shape:\", new_left_tensor.shape)\n",
    "print(\"new_left_tensor data type:\", new_left_tensor.dtype)\n",
    "print(\"new_left_tensor device:\", new_left_tensor.device)\n",
    "print(new_left_tensor)\n",
    "print()\n",
    "print(\"new_right_tensor class:\", type(new_right_tensor))\n",
    "print(\"new_right_tensor shape:\", new_right_tensor.shape)\n",
    "print(\"new_right_tensor data type:\", new_right_tensor.dtype)\n",
    "print(\"new_right_tensor device:\", new_right_tensor.device)\n",
    "print(new_right_tensor)"
   ]
  },
  {
   "cell_type": "code",
   "execution_count": 41,
   "metadata": {},
   "outputs": [
    {
     "name": "stdout",
     "output_type": "stream",
     "text": [
      "mm_tensor_operator class: <class 'torch.Tensor'>\n",
      "mm_tensor_operator shape: torch.Size([2, 1])\n",
      "mm_tensor_operator data type: torch.float32\n",
      "mm_tensor_operator device: cpu\n",
      "tensor([[61.],\n",
      "        [83.]])\n",
      "\n",
      "mm_tensor_method class: <class 'torch.Tensor'>\n",
      "mm_tensor_method shape: torch.Size([2, 1])\n",
      "mm_tensor_method data type: torch.float32\n",
      "mm_tensor_method device: cpu\n",
      "tensor([[61.],\n",
      "        [83.]])\n"
     ]
    }
   ],
   "source": [
    "mm_tensor_operator = new_left_tensor @ new_right_tensor\n",
    "mm_tensor_method = new_left_tensor.matmul(new_right_tensor)\n",
    "\n",
    "print(\"mm_tensor_operator class:\", type(mm_tensor_operator))\n",
    "print(\"mm_tensor_operator shape:\", mm_tensor_operator.shape)\n",
    "print(\"mm_tensor_operator data type:\", mm_tensor_operator.dtype)\n",
    "print(\"mm_tensor_operator device:\", mm_tensor_operator.device)\n",
    "print(mm_tensor_operator)\n",
    "print()\n",
    "print(\"mm_tensor_method class:\", type(mm_tensor_method))\n",
    "print(\"mm_tensor_method shape:\", mm_tensor_method.shape)\n",
    "print(\"mm_tensor_method data type:\", mm_tensor_method.dtype)\n",
    "print(\"mm_tensor_method device:\", mm_tensor_method.device)\n",
    "print(mm_tensor_method)"
   ]
  },
  {
   "cell_type": "code",
   "execution_count": 46,
   "metadata": {},
   "outputs": [],
   "source": [
    "# Matrix multiplication is not commutative. The code below produces a RuntimeError\n",
    "#mm_tensor_operator = new_right_tensor @ new_left_tensor"
   ]
  },
  {
   "cell_type": "code",
   "execution_count": 48,
   "metadata": {},
   "outputs": [
    {
     "name": "stdout",
     "output_type": "stream",
     "text": [
      "my_tensor_mean class: <class 'torch.Tensor'>\n",
      "my_tensor_mean shape: torch.Size([])\n",
      "my_tensor_mean data type: torch.float32\n",
      "my_tensor_mean device: cpu\n",
      "my_tensor mean: tensor(6.5000)\n"
     ]
    }
   ],
   "source": [
    "# Tensor Mean calculation\n",
    "\n",
    "my_tensor_mean = my_tensor.mean()\n",
    "\n",
    "print(\"my_tensor_mean class:\", type(my_tensor_mean))\n",
    "print(\"my_tensor_mean shape:\", my_tensor_mean.shape)\n",
    "print(\"my_tensor_mean data type:\", my_tensor_mean.dtype)\n",
    "print(\"my_tensor_mean device:\", my_tensor_mean.device)\n",
    "print(\"my_tensor mean:\", my_tensor_mean)"
   ]
  },
  {
   "cell_type": "code",
   "execution_count": 50,
   "metadata": {},
   "outputs": [
    {
     "name": "stdout",
     "output_type": "stream",
     "text": [
      "my_tensor_column_means class: <class 'torch.Tensor'>\n",
      "my_tensor_column_means shape: torch.Size([3])\n",
      "my_tensor_column_means data type: torch.float32\n",
      "my_tensor_column_means device: cpu\n",
      "my_tensor column means: tensor([5.5000, 6.5000, 7.5000])\n"
     ]
    }
   ],
   "source": [
    "# Mean of each column\n",
    "\n",
    "my_tensor_column_means = my_tensor.mean(dim=0)\n",
    "\n",
    "print(\"my_tensor_column_means class:\", type(my_tensor_column_means))\n",
    "print(\"my_tensor_column_means shape:\", my_tensor_column_means.shape)\n",
    "print(\"my_tensor_column_means data type:\", my_tensor_column_means.dtype)\n",
    "print(\"my_tensor_column_means device:\", my_tensor_column_means.device)\n",
    "print(\"my_tensor column means:\", my_tensor_column_means)"
   ]
  },
  {
   "cell_type": "markdown",
   "metadata": {},
   "source": [
    "**Explore Files**"
   ]
  },
  {
   "cell_type": "markdown",
   "metadata": {},
   "source": [
    "The script below organizes the images in the train data into their respective categories:"
   ]
  },
  {
   "cell_type": "code",
   "execution_count": 1,
   "metadata": {},
   "outputs": [],
   "source": [
    "# import os\n",
    "# import pandas as pd\n",
    "# import shutil\n",
    "\n",
    "# # Paths\n",
    "# train_features_csv = r\"D:\\workspace\\applied_ai\\0x00-wildlife_conservation\\data_p1\\data_multiclass\\train\\train_features.csv\"  # Path to train_features.csv\n",
    "# train_labels_csv = r\"D:\\workspace\\applied_ai\\0x00-wildlife_conservation\\data_p1\\data_multiclass\\train\\train_labels.csv\"  # Path to train_labels.csv\n",
    "# image_folder = r\"D:\\workspace\\applied_ai\\0x00-wildlife_conservation\\data_p1\\data_multiclass\\train\\train_features_data\"  # Folder containing images\n",
    "# output_folder = r\"D:\\workspace\\applied_ai\\0x00-wildlife_conservation\\data_p1\\data_multiclass\\train\\train_features\"  # Folder where organized images will be saved\n",
    "\n",
    "# # Create the output directory if it doesn't exist\n",
    "# if not os.path.exists(output_folder):\n",
    "#     os.makedirs(output_folder)\n",
    "\n",
    "# # Read the CSV files\n",
    "# features_df = pd.read_csv(train_features_csv)\n",
    "# labels_df = pd.read_csv(train_labels_csv)\n",
    "\n",
    "# # Ensure the 'id' column matches in both dataframes\n",
    "# assert set(features_df['id']) == set(labels_df['id']), \"ID mismatch between features and labels CSVs.\"\n",
    "\n",
    "# # Create directories for each label category\n",
    "# label_columns = labels_df.columns[1:]  # Exclude 'id' column\n",
    "# for label in label_columns:\n",
    "#     label_folder = os.path.join(output_folder, label)\n",
    "#     if not os.path.exists(label_folder):\n",
    "#         os.makedirs(label_folder)\n",
    "\n",
    "# # Organize images into folders\n",
    "# for _, row in labels_df.iterrows():\n",
    "#     image_id = row['id']\n",
    "#     image_path = os.path.join(image_folder, f\"{image_id}.jpg\")  # Image file path\n",
    "\n",
    "#     # Ensure the image exists\n",
    "#     if not os.path.exists(image_path):\n",
    "#         print(f\"Image {image_path} not found. Skipping.\")\n",
    "#         continue\n",
    "\n",
    "#     # Find the corresponding label (1 in the row)\n",
    "#     for label in label_columns:\n",
    "#         if row[label] == 1:  # If this label applies\n",
    "#             destination_folder = os.path.join(output_folder, label)\n",
    "#             shutil.copy(image_path, destination_folder)  # Copy image\n",
    "#             print(f\"Copied {image_id}.jpg to {destination_folder}\")\n",
    "#             break  # Move to the next image once labeled\n",
    "\n",
    "# print(\"Image organization complete!\")\n"
   ]
  },
  {
   "cell_type": "markdown",
   "metadata": {},
   "source": [
    "Following the pattern of data_dir, assign the path to the multi-class training data to train_dir"
   ]
  },
  {
   "cell_type": "code",
   "execution_count": 18,
   "metadata": {},
   "outputs": [
    {
     "name": "stdout",
     "output_type": "stream",
     "text": [
      "data_dir class: <class 'str'>\n",
      "Data directory: data_p1/data_multiclass/\n",
      "\n",
      "train_dir class: <class 'str'>\n",
      "Training data directory: data_p1/data_multiclass/train\\train_features\n"
     ]
    }
   ],
   "source": [
    "data_dir = os.path.join(\"data_p1/\", \"data_multiclass/\")\n",
    "train_dir = os.path.join(data_dir, \"train\", \"train_features\")\n",
    "\n",
    "\n",
    "print(\"data_dir class:\", type(data_dir))\n",
    "print(\"Data directory:\", data_dir)\n",
    "print()\n",
    "print(\"train_dir class:\", type(train_dir))\n",
    "print(\"Training data directory:\", train_dir)"
   ]
  },
  {
   "cell_type": "markdown",
   "metadata": {},
   "source": [
    "Create a list of contents of train_dir:"
   ]
  },
  {
   "cell_type": "code",
   "execution_count": 19,
   "metadata": {},
   "outputs": [
    {
     "name": "stdout",
     "output_type": "stream",
     "text": [
      "class_directories type: <class 'list'>\n",
      "class_directories length: 8\n",
      "['antelope_duiker', 'bird', 'blank', 'civet_genet', 'hog', 'leopard', 'monkey_prosimian', 'rodent']\n"
     ]
    }
   ],
   "source": [
    "class_directories = os.listdir(train_dir)\n",
    "\n",
    "print(\"class_directories type:\", type(class_directories))\n",
    "print(\"class_directories length:\", len(class_directories))\n",
    "print(class_directories)"
   ]
  },
  {
   "cell_type": "markdown",
   "metadata": {},
   "source": [
    "Listing the names of each subdirectory as its key and the number of files in each subdirectory as its value:"
   ]
  },
  {
   "cell_type": "code",
   "execution_count": 20,
   "metadata": {},
   "outputs": [
    {
     "name": "stdout",
     "output_type": "stream",
     "text": [
      "class_distributions type: <class 'pandas.core.series.Series'>\n",
      "class_distributions shape: (8,)\n",
      "antelope_duiker     444\n",
      "bird                314\n",
      "blank               418\n",
      "civet_genet         457\n",
      "hog                 174\n",
      "leopard             397\n",
      "monkey_prosimian    445\n",
      "rodent              376\n",
      "dtype: int64\n"
     ]
    }
   ],
   "source": [
    "class_distributions_dict = {}\n",
    "\n",
    "for subdirectory in class_directories:\n",
    "    dir = os.path.join(train_dir, subdirectory)\n",
    "    files = os.listdir(dir)\n",
    "    num_files = len(files)\n",
    "    class_distributions_dict[subdirectory] = num_files\n",
    "\n",
    "class_distributions = pd.Series(class_distributions_dict)\n",
    "\n",
    "print(\"class_distributions type:\", type(class_distributions))\n",
    "print(\"class_distributions shape:\", class_distributions.shape)\n",
    "print(class_distributions)"
   ]
  },
  {
   "cell_type": "markdown",
   "metadata": {},
   "source": [
    "Create a bar chart from class_distributions:"
   ]
  },
  {
   "cell_type": "code",
   "execution_count": 21,
   "metadata": {},
   "outputs": [
    {
     "data": {
      "image/png": "[encoded data removed]",
      "text/plain": [
       "<Figure size 1000x500 with 1 Axes>"
      ]
     },
     "metadata": {},
     "output_type": "display_data"
    }
   ],
   "source": [
    "# Create a bar plot of class distributions\n",
    "fig, ax = plt.subplots(figsize=(10, 5))\n",
    "\n",
    "# Plot the data\n",
    "class_distributions.plot(kind='bar') # Write your code here\n",
    "ax.set_xlabel(\"Class Label\")\n",
    "ax.set_ylabel(\"Frequency [count]\")\n",
    "ax.set_title(\"Class Distribution, Multiclass Training Set\")\n",
    "plt.xticks(rotation=45)\n",
    "plt.tight_layout()\n",
    "plt.show()"
   ]
  },
  {
   "cell_type": "markdown",
   "metadata": {},
   "source": [
    "**Load Images**"
   ]
  }
 ],
 "metadata": {
  "kernelspec": {
   "display_name": "venv",
   "language": "python",
   "name": "python3"
  },
  "language_info": {
   "codemirror_mode": {
    "name": "ipython",
    "version": 3
   },
   "file_extension": ".py",
   "mimetype": "text/x-python",
   "name": "python",
   "nbconvert_exporter": "python",
   "pygments_lexer": "ipython3",
   "version": "3.12.1"
  }
 },
 "nbformat": 4,
 "nbformat_minor": 2
}
