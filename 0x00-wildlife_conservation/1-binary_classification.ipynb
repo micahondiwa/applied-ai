{
 "cells": [
  {
   "cell_type": "markdown",
   "metadata": {},
   "source": [
    "# **Binary Classification with PyTorch**"
   ]
  },
  {
   "cell_type": "code",
   "execution_count": 27,
   "metadata": {},
   "outputs": [],
   "source": [
    "import os\n",
    "import sys \n",
    "from collections import Counter\n",
    "\n",
    "import cv2\n",
    "import matplotlib\n",
    "import matplotlib.pyplot as plt\n",
    "import numpy as np \n",
    "import pandas as pd\n",
    "import PIL\n",
    "import sklearn\n",
    "import torch\n",
    "import torch.nn as nn \n",
    "import torch.nn.functional as F \n",
    "import torch.optim as optim \n",
    "import torchinfo\n",
    "import torchvision\n",
    "from PIL import Image\n",
    "from sklearn.metrics import ConfusionMatrixDisplay, confusion_matrix\n",
    "from torch.utils.data import DataLoader, random_split\n",
    "from torchinfo import summary\n",
    "from tqdm.notebook import tqdm\n",
    "from tqdm.version import __version__ as tqdm__version__\n",
    "\n",
    "torch.backends.cudnn.deterministic = True"
   ]
  },
  {
   "cell_type": "code",
   "execution_count": 28,
   "metadata": {},
   "outputs": [
    {
     "name": "stdout",
     "output_type": "stream",
     "text": [
      "Platform: win32\n",
      "Python version: 3.12.1 (tags/v3.12.1:2305ca5, Dec  7 2023, 22:03:25) [MSC v.1937 64 bit (AMD64)]\n",
      "---\n",
      "CV2 version :  4.11.0\n",
      "matplotlib version :  3.8.3\n",
      "numpy version :  1.26.3\n",
      "torch version :  2.5.1+cpu\n",
      "torchinfo version :  1.8.0\n",
      "torchvision version :  0.20.1+cpu\n",
      "PIL version :  10.2.0\n",
      "scikit-learn version:  1.6.1\n",
      "tqdm version:  4.67.1\n"
     ]
    }
   ],
   "source": [
    "print(\"Platform:\", sys.platform)\n",
    "print(\"Python version:\", sys.version)\n",
    "print(\"---\")\n",
    "print(\"CV2 version : \", cv2.__version__)\n",
    "print(\"matplotlib version : \", matplotlib.__version__)\n",
    "print(\"numpy version : \", np.__version__)\n",
    "print(\"torch version : \", torch.__version__)\n",
    "print(\"torchinfo version : \", torchinfo.__version__)\n",
    "print(\"torchvision version : \", torchvision.__version__)\n",
    "print(\"PIL version : \", PIL.__version__)\n",
    "print(\"scikit-learn version: \", sklearn.__version__)\n",
    "print(\"tqdm version: \", tqdm__version__)"
   ]
  },
  {
   "cell_type": "code",
   "execution_count": 29,
   "metadata": {},
   "outputs": [
    {
     "name": "stdout",
     "output_type": "stream",
     "text": [
      "Using cpu device.\n"
     ]
    }
   ],
   "source": [
    "if torch.cuda.is_available():\n",
    "    device = \"cuda\"\n",
    "elif torch.backends.mps.is_available():\n",
    "    device = \"mps\"\n",
    "else:\n",
    "    device = \"cpu\"\n",
    "\n",
    "print(f\"Using {device} device.\")"
   ]
  },
  {
   "cell_type": "markdown",
   "metadata": {},
   "source": [
    "**1. Introducction**"
   ]
  },
  {
   "cell_type": "markdown",
   "metadata": {},
   "source": [
    "**Goal**: To build a model for classifying a wildlife camera image into a hog or not hog."
   ]
  },
  {
   "cell_type": "markdown",
   "metadata": {},
   "source": [
    "**Objectives**\n",
    "- Convert images from grayscale to RGB.\n",
    "- Resize images.\n",
    "- Create a transformation pipeline to standardize images for training.\n",
    "- Build and train a simple neural network model in PyTorch.\n",
    "- Save the trained neural network to disk.\n"
   ]
  },
  {
   "cell_type": "markdown",
   "metadata": {},
   "source": [
    "**2. Exploring Data**"
   ]
  },
  {
   "cell_type": "code",
   "execution_count": 42,
   "metadata": {},
   "outputs": [
    {
     "name": "stdout",
     "output_type": "stream",
     "text": [
      "Data Directory: data_p1\\data_binary\n",
      "Training Data Directory: data_p1\\data_binary\\train\n"
     ]
    }
   ],
   "source": [
    "# Set the training path\n",
    "data_dir = os.path.join(\"data_p1\", \"data_binary\")\n",
    "train_dir = os.path.join(data_dir, \"train\")\n",
    "\n",
    "print(\"Data Directory:\", data_dir)\n",
    "print(\"Training Data Directory:\", train_dir)"
   ]
  },
  {
   "cell_type": "code",
   "execution_count": 43,
   "metadata": {},
   "outputs": [
    {
     "data": {
      "text/plain": [
       "['blank', 'hog']"
      ]
     },
     "execution_count": 43,
     "metadata": {},
     "output_type": "execute_result"
    }
   ],
   "source": [
    "labels = os.listdir(train_dir)\n",
    "labels"
   ]
  },
  {
   "cell_type": "markdown",
   "metadata": {},
   "source": [
    "- The training data falls into two classes. We have either an image of a hog or an iamage where there is no animal present (blank). \n",
    "- We want our model to distinguish between these two types of images."
   ]
  },
  {
   "cell_type": "markdown",
   "metadata": {},
   "source": [
    "Determining the number of blank images in the training data and asigning the results to blank_images."
   ]
  },
  {
   "cell_type": "code",
   "execution_count": 46,
   "metadata": {},
   "outputs": [
    {
     "name": "stdout",
     "output_type": "stream",
     "text": [
      "length of hog images:  174\n",
      "length of blank images:  418\n"
     ]
    }
   ],
   "source": [
    "# Count blank images\n",
    "hog_path = os.path.join(train_dir, \"hog\")\n",
    "hog_images = os.listdir(hog_path)\n",
    "print(\"length of hog images: \", len(hog_images))\n",
    "\n",
    "blank_path = os.path.join(train_dir, \"blank\")\n",
    "blank_images = os.listdir(blank_path)\n",
    "print(\"length of blank images: \", len(blank_images))"
   ]
  },
  {
   "cell_type": "markdown",
   "metadata": {},
   "source": [
    "Image path display:"
   ]
  },
  {
   "cell_type": "code",
   "execution_count": 47,
   "metadata": {},
   "outputs": [
    {
     "name": "stdout",
     "output_type": "stream",
     "text": [
      "ZJ000072.jpg\n",
      "data_p1\\data_binary\\train\\hog\\ZJ000072.jpg\n",
      "ZJ000061.jpg\n",
      "data_p1\\data_binary\\train\\blank\\ZJ000061.jpg\n"
     ]
    }
   ],
   "source": [
    "hog_image_name = hog_images[0]\n",
    "print(hog_image_name)\n",
    "\n",
    "hog_image_path = os.path.join(hog_path, hog_image_name)\n",
    "print(hog_image_path)\n",
    "\n",
    "blank_image_name = blank_images[0]\n",
    "print(blank_image_name)\n",
    "\n",
    "blank_image_path = os.path.join(blank_path, blank_image_name)\n",
    "print(blank_image_path)"
   ]
  }
 ],
 "metadata": {
  "kernelspec": {
   "display_name": "Python 3",
   "language": "python",
   "name": "python3"
  },
  "language_info": {
   "codemirror_mode": {
    "name": "ipython",
    "version": 3
   },
   "file_extension": ".py",
   "mimetype": "text/x-python",
   "name": "python",
   "nbconvert_exporter": "python",
   "pygments_lexer": "ipython3",
   "version": "3.12.1"
  }
 },
 "nbformat": 4,
 "nbformat_minor": 2
}
