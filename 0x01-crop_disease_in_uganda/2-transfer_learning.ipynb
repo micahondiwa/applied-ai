{
 "cells": [
  {
   "cell_type": "markdown",
   "metadata": {},
   "source": [
    "# **Transfer Learning**"
   ]
  },
  {
   "cell_type": "markdown",
   "metadata": {},
   "source": [
    "**Goal**: Using punlicly available image classification model and alter it to meet our needs, vastly improving both training speed and model performance."
   ]
  },
  {
   "cell_type": "markdown",
   "metadata": {},
   "source": [
    "**Objectives**"
   ]
  },
  {
   "cell_type": "markdown",
   "metadata": {},
   "source": [
    "- Load data.\n",
    "- Download a pre-trained model.\n",
    "- Alter that model to suit our needs with Transfer Learning.\n",
    "- Train just the altered part.\n",
    "- Test model performance with K-fold cross-validation."
   ]
  }
 ],
 "metadata": {
  "language_info": {
   "name": "python"
  }
 },
 "nbformat": 4,
 "nbformat_minor": 2
}
