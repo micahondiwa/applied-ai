{
 "cells": [
  {
   "cell_type": "markdown",
   "metadata": {},
   "source": [
    "# **Explore Data Sets**"
   ]
  },
  {
   "cell_type": "markdown",
   "metadata": {},
   "source": [
    "**Goal**: To explore the dataset by looking at images of crops, some with healthy and some with different diseases."
   ]
  },
  {
   "cell_type": "markdown",
   "metadata": {},
   "source": [
    "**Objectives**\n",
    "\n",
    "- Check properties of the image data.\n",
    "- Normalize the dataset.\n",
    "- Check the number of data points in each class.\n",
    "- Balance the classes, so each ha the same number of observations."
   ]
  },
  {
   "cell_type": "code",
   "execution_count": 1,
   "metadata": {},
   "outputs": [],
   "source": [
    "import os\n",
    "import random\n",
    "from shutil import copy2\n",
    "\n",
    "import matplotlib\n",
    "import matplotlib.pyplot as plt\n",
    "import numpy as np \n",
    "import PIL\n",
    "import torch\n",
    "import torchvision\n",
    "from torch.utils.data import DataLoader, random_split\n",
    "from torchvision import datasets, transforms\n",
    "from tqdm.notebook import tqdm"
   ]
  },
  {
   "cell_type": "code",
   "execution_count": 2,
   "metadata": {},
   "outputs": [
    {
     "name": "stdout",
     "output_type": "stream",
     "text": [
      "torch version :  2.5.1+cpu\n",
      "torchvision version :  0.20.1+cpu\n",
      "numpy version :  1.26.3\n",
      "matplotlib version :  3.8.3\n",
      "Python 3.12.1\n"
     ]
    }
   ],
   "source": [
    "print(\"torch version : \", torch.__version__)\n",
    "print(\"torchvision version : \", torchvision.__version__)\n",
    "print(\"numpy version : \", np.__version__)\n",
    "print(\"matplotlib version : \", matplotlib.__version__)\n",
    "\n",
    "!python --version"
   ]
  },
  {
   "cell_type": "markdown",
   "metadata": {},
   "source": [
    "**1. Exploring Data**"
   ]
  },
  {
   "cell_type": "code",
   "execution_count": 3,
   "metadata": {},
   "outputs": [
    {
     "name": "stdout",
     "output_type": "stream",
     "text": [
      "Data directory: data_p2\\train\n"
     ]
    }
   ],
   "source": [
    "data_dir = \"data_p2\"\n",
    "train_dir = os.path.join(data_dir, \"train\")\n",
    "\n",
    "print(\"Data directory:\", train_dir)"
   ]
  },
  {
   "cell_type": "code",
   "execution_count": 4,
   "metadata": {},
   "outputs": [
    {
     "data": {
      "text/plain": [
       "['cassava-bacterial-blight-cbb',\n",
       " 'cassava-brown-streak-disease-cbsd',\n",
       " 'cassava-green-mottle-cgm',\n",
       " 'cassava-healthy',\n",
       " 'cassava-mosaic-disease-cmd']"
      ]
     },
     "execution_count": 4,
     "metadata": {},
     "output_type": "execute_result"
    }
   ],
   "source": [
    "classes = os.listdir(train_dir)\n",
    "classes"
   ]
  },
  {
   "cell_type": "markdown",
   "metadata": {},
   "source": [
    "Open an image with PIL"
   ]
  },
  {
   "cell_type": "code",
   "execution_count": 5,
   "metadata": {},
   "outputs": [],
   "source": [
    "def sample_images(data_path, classname):\n",
    "    # Gets the files in the directory\n",
    "    class_dir = os.path.join(data_path, classname)\n",
    "    if not os.path.exists(class_dir):\n",
    "        return \"Invalid directory\"\n",
    "    image_list = os.listdir(class_dir)\n",
    "    if len(image_list) < 4:\n",
    "        return \"Not enough images in folder\"\n",
    "\n",
    "    # Pick four random images\n",
    "    images_sample = random.sample(image_list, 4)\n",
    "\n",
    "    # Plot them\n",
    "    plt.figure(figsize=(20, 20))\n",
    "    for i in range(4):\n",
    "        img_loc = os.path.join(class_dir, images_sample[i])\n",
    "        img = PIL.Image.open(img_loc)\n",
    "        plt.subplot(1, 4, i + 1)\n",
    "        plt.imshow(img)\n",
    "        plt.axis(\"off\")"
   ]
  },
  {
   "cell_type": "markdown",
   "metadata": {},
   "source": [
    "Looking at some healthy plants:"
   ]
  }
 ],
 "metadata": {
  "kernelspec": {
   "display_name": "Python 3",
   "language": "python",
   "name": "python3"
  },
  "language_info": {
   "codemirror_mode": {
    "name": "ipython",
    "version": 3
   },
   "file_extension": ".py",
   "mimetype": "text/x-python",
   "name": "python",
   "nbconvert_exporter": "python",
   "pygments_lexer": "ipython3",
   "version": "3.12.1"
  }
 },
 "nbformat": 4,
 "nbformat_minor": 2
}
